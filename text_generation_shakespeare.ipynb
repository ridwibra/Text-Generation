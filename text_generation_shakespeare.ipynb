{
  "nbformat": 4,
  "nbformat_minor": 0,
  "metadata": {
    "colab": {
      "name": "text_generation_shakespeare.ipynb",
      "provenance": [],
      "collapsed_sections": [],
      "authorship_tag": "ABX9TyM1ny/CbYT8zFNlxaFTy44m",
      "include_colab_link": true
    },
    "kernelspec": {
      "name": "python3",
      "display_name": "Python 3"
    },
    "language_info": {
      "name": "python"
    },
    "accelerator": "GPU"
  },
  "cells": [
    {
      "cell_type": "markdown",
      "metadata": {
        "id": "view-in-github",
        "colab_type": "text"
      },
      "source": [
        "<a href=\"https://colab.research.google.com/github/ridwibra/Text-Generation/blob/main/text_generation_shakespeare.ipynb\" target=\"_parent\"><img src=\"https://colab.research.google.com/assets/colab-badge.svg\" alt=\"Open In Colab\"/></a>"
      ]
    },
    {
      "cell_type": "code",
      "metadata": {
        "id": "3j0J5AGGhwkQ"
      },
      "source": [
        "import numpy as np\n",
        "import pandas as pd\n",
        "import matplotlib.pyplot as plt"
      ],
      "execution_count": 1,
      "outputs": []
    },
    {
      "cell_type": "code",
      "metadata": {
        "id": "jrp41ZJ1q_qA"
      },
      "source": [
        "import tensorflow as tf "
      ],
      "execution_count": 2,
      "outputs": []
    },
    {
      "cell_type": "code",
      "metadata": {
        "id": "ZJycFuuOrDlq"
      },
      "source": [
        "path_to_file = \"/content/shakespeare.txt\""
      ],
      "execution_count": 3,
      "outputs": []
    },
    {
      "cell_type": "code",
      "metadata": {
        "id": "20cMx8sxrwy1"
      },
      "source": [
        "text = open(path_to_file, 'r').read()"
      ],
      "execution_count": 4,
      "outputs": []
    },
    {
      "cell_type": "code",
      "metadata": {
        "id": "eYDyJ1tGr3hC",
        "colab": {
          "base_uri": "https://localhost:8080/"
        },
        "outputId": "b5313eed-d806-401d-ccff-cea56f00b29f"
      },
      "source": [
        "print(text[400:800])"
      ],
      "execution_count": 5,
      "outputs": [
        {
          "output_type": "stream",
          "name": "stdout",
          "text": [
            "hat art now the world's fresh ornament,\n",
            "  And only herald to the gaudy spring,\n",
            "  Within thine own bud buriest thy content,\n",
            "  And tender churl mak'st waste in niggarding:\n",
            "    Pity the world, or else this glutton be,\n",
            "    To eat the world's due, by the grave and thee.\n",
            "\n",
            "\n",
            "                     2\n",
            "  When forty winters shall besiege thy brow,\n",
            "  And dig deep trenches in thy beauty's field,\n",
            "  Thy youth's pro\n"
          ]
        }
      ]
    },
    {
      "cell_type": "code",
      "metadata": {
        "id": "MB3CxyVAr8l2"
      },
      "source": [
        "#grab all the unique characters\n",
        "vocab = sorted(set(text))"
      ],
      "execution_count": 6,
      "outputs": []
    },
    {
      "cell_type": "code",
      "metadata": {
        "colab": {
          "base_uri": "https://localhost:8080/"
        },
        "id": "Am1lXIuKsQlj",
        "outputId": "5f04e8ed-6381-4a20-e48f-7c63be1c7846"
      },
      "source": [
        "vocab"
      ],
      "execution_count": 7,
      "outputs": [
        {
          "output_type": "execute_result",
          "data": {
            "text/plain": [
              "['\\n',\n",
              " ' ',\n",
              " '!',\n",
              " '\"',\n",
              " '&',\n",
              " \"'\",\n",
              " '(',\n",
              " ')',\n",
              " ',',\n",
              " '-',\n",
              " '.',\n",
              " '0',\n",
              " '1',\n",
              " '2',\n",
              " '3',\n",
              " '4',\n",
              " '5',\n",
              " '6',\n",
              " '7',\n",
              " '8',\n",
              " '9',\n",
              " ':',\n",
              " ';',\n",
              " '<',\n",
              " '>',\n",
              " '?',\n",
              " 'A',\n",
              " 'B',\n",
              " 'C',\n",
              " 'D',\n",
              " 'E',\n",
              " 'F',\n",
              " 'G',\n",
              " 'H',\n",
              " 'I',\n",
              " 'J',\n",
              " 'K',\n",
              " 'L',\n",
              " 'M',\n",
              " 'N',\n",
              " 'O',\n",
              " 'P',\n",
              " 'Q',\n",
              " 'R',\n",
              " 'S',\n",
              " 'T',\n",
              " 'U',\n",
              " 'V',\n",
              " 'W',\n",
              " 'X',\n",
              " 'Y',\n",
              " 'Z',\n",
              " '[',\n",
              " ']',\n",
              " '_',\n",
              " '`',\n",
              " 'a',\n",
              " 'b',\n",
              " 'c',\n",
              " 'd',\n",
              " 'e',\n",
              " 'f',\n",
              " 'g',\n",
              " 'h',\n",
              " 'i',\n",
              " 'j',\n",
              " 'k',\n",
              " 'l',\n",
              " 'm',\n",
              " 'n',\n",
              " 'o',\n",
              " 'p',\n",
              " 'q',\n",
              " 'r',\n",
              " 's',\n",
              " 't',\n",
              " 'u',\n",
              " 'v',\n",
              " 'w',\n",
              " 'x',\n",
              " 'y',\n",
              " 'z',\n",
              " '|',\n",
              " '}']"
            ]
          },
          "metadata": {},
          "execution_count": 7
        }
      ]
    },
    {
      "cell_type": "code",
      "metadata": {
        "colab": {
          "base_uri": "https://localhost:8080/"
        },
        "id": "ZNSHSBTfsSKP",
        "outputId": "6491bdb4-6524-4092-eb78-82c3ed8b382f"
      },
      "source": [
        "len(vocab)"
      ],
      "execution_count": 8,
      "outputs": [
        {
          "output_type": "execute_result",
          "data": {
            "text/plain": [
              "84"
            ]
          },
          "metadata": {},
          "execution_count": 8
        }
      ]
    },
    {
      "cell_type": "code",
      "metadata": {
        "id": "YePfsiuksXPr"
      },
      "source": [
        "#vectorize the text and create encoding dictionary\n",
        "char_to_ind = {char:ind for ind, char in enumerate(vocab)}"
      ],
      "execution_count": 9,
      "outputs": []
    },
    {
      "cell_type": "code",
      "metadata": {
        "colab": {
          "base_uri": "https://localhost:8080/"
        },
        "id": "yqt9nnhNteYh",
        "outputId": "802f197c-2b3f-4a3c-8ded-8f4387ea4eae"
      },
      "source": [
        "char_to_ind['R']"
      ],
      "execution_count": 10,
      "outputs": [
        {
          "output_type": "execute_result",
          "data": {
            "text/plain": [
              "43"
            ]
          },
          "metadata": {},
          "execution_count": 10
        }
      ]
    },
    {
      "cell_type": "code",
      "metadata": {
        "id": "NEouJKYFtlsc"
      },
      "source": [
        "ind_to_char = np.array(vocab)"
      ],
      "execution_count": 11,
      "outputs": []
    },
    {
      "cell_type": "code",
      "metadata": {
        "colab": {
          "base_uri": "https://localhost:8080/",
          "height": 36
        },
        "id": "6DQmX-aatxy3",
        "outputId": "196adba5-97c0-4df0-d120-206ddd42d21f"
      },
      "source": [
        "ind_to_char[43]"
      ],
      "execution_count": 12,
      "outputs": [
        {
          "output_type": "execute_result",
          "data": {
            "application/vnd.google.colaboratory.intrinsic+json": {
              "type": "string"
            },
            "text/plain": [
              "'R'"
            ]
          },
          "metadata": {},
          "execution_count": 12
        }
      ]
    },
    {
      "cell_type": "code",
      "metadata": {
        "id": "tGTOnqrht1GV"
      },
      "source": [
        "encoded_text = np.array([char_to_ind[c] for c in text])"
      ],
      "execution_count": 13,
      "outputs": []
    },
    {
      "cell_type": "code",
      "metadata": {
        "colab": {
          "base_uri": "https://localhost:8080/"
        },
        "id": "Kz2z9xgTuPhl",
        "outputId": "08cee87f-52e5-4484-bc73-1a44acf6b62f"
      },
      "source": [
        "encoded_text.shape"
      ],
      "execution_count": 14,
      "outputs": [
        {
          "output_type": "execute_result",
          "data": {
            "text/plain": [
              "(6494185,)"
            ]
          },
          "metadata": {},
          "execution_count": 14
        }
      ]
    },
    {
      "cell_type": "markdown",
      "metadata": {
        "id": "JmDeAiMQvWqi"
      },
      "source": [
        "understand the text sequences;\n",
        "use tensorflow datasets to generate batches;\n",
        "shuffle batches;"
      ]
    },
    {
      "cell_type": "code",
      "metadata": {
        "colab": {
          "base_uri": "https://localhost:8080/"
        },
        "id": "rSN-SIXUuSFE",
        "outputId": "31e19d88-843a-41c3-fcd9-729072faeddc"
      },
      "source": [
        "print(text[:500])"
      ],
      "execution_count": 15,
      "outputs": [
        {
          "output_type": "stream",
          "name": "stdout",
          "text": [
            "\n",
            "                     1\n",
            "  From fairest creatures we desire increase,\n",
            "  That thereby beauty's rose might never die,\n",
            "  But as the riper should by time decease,\n",
            "  His tender heir might bear his memory:\n",
            "  But thou contracted to thine own bright eyes,\n",
            "  Feed'st thy light's flame with self-substantial fuel,\n",
            "  Making a famine where abundance lies,\n",
            "  Thy self thy foe, to thy sweet self too cruel:\n",
            "  Thou that art now the world's fresh ornament,\n",
            "  And only herald to the gaudy spring,\n",
            "  Within thine own bu\n"
          ]
        }
      ]
    },
    {
      "cell_type": "code",
      "metadata": {
        "id": "NvAID2KDwNvo"
      },
      "source": [
        "lines = '''\n",
        "From fairest creatures we desire increase,\n",
        "  That thereby beauty's rose might never die,\n",
        "  But as the riper should by time decease,\n",
        "'''"
      ],
      "execution_count": 16,
      "outputs": []
    },
    {
      "cell_type": "code",
      "metadata": {
        "colab": {
          "base_uri": "https://localhost:8080/"
        },
        "id": "0S2H5gUDw9LC",
        "outputId": "51e19665-f7c4-4b13-d211-d22703e27914"
      },
      "source": [
        "len(lines)"
      ],
      "execution_count": 17,
      "outputs": [
        {
          "output_type": "execute_result",
          "data": {
            "text/plain": [
              "133"
            ]
          },
          "metadata": {},
          "execution_count": 17
        }
      ]
    },
    {
      "cell_type": "code",
      "metadata": {
        "id": "Ed2xVLUNxAGP"
      },
      "source": [
        "seq_len = 120"
      ],
      "execution_count": 18,
      "outputs": []
    },
    {
      "cell_type": "code",
      "metadata": {
        "id": "HBysveBNxd3n"
      },
      "source": [
        "total_num_seq = len(text)//(seq_len+1)"
      ],
      "execution_count": 19,
      "outputs": []
    },
    {
      "cell_type": "code",
      "metadata": {
        "colab": {
          "base_uri": "https://localhost:8080/"
        },
        "id": "KVxYwgU3xpRP",
        "outputId": "8b26c53a-658b-44f3-a509-532db63acb92"
      },
      "source": [
        "total_num_seq"
      ],
      "execution_count": 20,
      "outputs": [
        {
          "output_type": "execute_result",
          "data": {
            "text/plain": [
              "53670"
            ]
          },
          "metadata": {},
          "execution_count": 20
        }
      ]
    },
    {
      "cell_type": "code",
      "metadata": {
        "id": "XaREvUzdxqrk"
      },
      "source": [
        "char_dataset = tf.data.Dataset.from_tensor_slices(encoded_text)"
      ],
      "execution_count": 21,
      "outputs": []
    },
    {
      "cell_type": "code",
      "metadata": {
        "colab": {
          "base_uri": "https://localhost:8080/"
        },
        "id": "BnLjpib1x6-8",
        "outputId": "ff686116-61a9-4426-e15c-d00a87afacc3"
      },
      "source": [
        "type(char_dataset)"
      ],
      "execution_count": 22,
      "outputs": [
        {
          "output_type": "execute_result",
          "data": {
            "text/plain": [
              "tensorflow.python.data.ops.dataset_ops.TensorSliceDataset"
            ]
          },
          "metadata": {},
          "execution_count": 22
        }
      ]
    },
    {
      "cell_type": "code",
      "metadata": {
        "id": "HycWmF86x_D-"
      },
      "source": [
        "#create batches\n",
        "sequences = char_dataset.batch(seq_len+1, drop_remainder=True)\n"
      ],
      "execution_count": 23,
      "outputs": []
    },
    {
      "cell_type": "code",
      "metadata": {
        "id": "GfGiOZxl2nWB"
      },
      "source": [
        "#create target text sequence\n",
        "def create_seq_targets(seq):\n",
        "  input_txt = seq[:-1]\n",
        "  target_txt = seq[1:]\n",
        "  return input_txt, target_txt"
      ],
      "execution_count": 24,
      "outputs": []
    },
    {
      "cell_type": "code",
      "metadata": {
        "id": "Py7-cH8v3H9p"
      },
      "source": [
        "dataset = sequences.map(create_seq_targets)"
      ],
      "execution_count": 25,
      "outputs": []
    },
    {
      "cell_type": "code",
      "metadata": {
        "colab": {
          "base_uri": "https://localhost:8080/"
        },
        "id": "v_YfqTHF3N_j",
        "outputId": "5899047d-d894-4682-b107-741d3b2d9f03"
      },
      "source": [
        "for input_txt, target_txt in dataset.take(1):\n",
        "  print(input_txt.numpy())\n",
        "  print(\"\".join(ind_to_char[input_txt.numpy()]))\n",
        "  print('\\n')\n",
        "  print(target_txt.numpy())\n",
        "  print(\"\".join(ind_to_char[target_txt.numpy()]))"
      ],
      "execution_count": 26,
      "outputs": [
        {
          "output_type": "stream",
          "name": "stdout",
          "text": [
            "[ 0  1  1  1  1  1  1  1  1  1  1  1  1  1  1  1  1  1  1  1  1  1 12  0\n",
            "  1  1 31 73 70 68  1 61 56 64 73 60 74 75  1 58 73 60 56 75 76 73 60 74\n",
            "  1 78 60  1 59 60 74 64 73 60  1 64 69 58 73 60 56 74 60  8  0  1  1 45\n",
            " 63 56 75  1 75 63 60 73 60 57 80  1 57 60 56 76 75 80  5 74  1 73 70 74\n",
            " 60  1 68 64 62 63 75  1 69 60 77 60 73  1 59 64 60  8  0  1  1 27 76 75]\n",
            "\n",
            "                     1\n",
            "  From fairest creatures we desire increase,\n",
            "  That thereby beauty's rose might never die,\n",
            "  But\n",
            "\n",
            "\n",
            "[ 1  1  1  1  1  1  1  1  1  1  1  1  1  1  1  1  1  1  1  1  1 12  0  1\n",
            "  1 31 73 70 68  1 61 56 64 73 60 74 75  1 58 73 60 56 75 76 73 60 74  1\n",
            " 78 60  1 59 60 74 64 73 60  1 64 69 58 73 60 56 74 60  8  0  1  1 45 63\n",
            " 56 75  1 75 63 60 73 60 57 80  1 57 60 56 76 75 80  5 74  1 73 70 74 60\n",
            "  1 68 64 62 63 75  1 69 60 77 60 73  1 59 64 60  8  0  1  1 27 76 75  1]\n",
            "                     1\n",
            "  From fairest creatures we desire increase,\n",
            "  That thereby beauty's rose might never die,\n",
            "  But \n"
          ]
        }
      ]
    },
    {
      "cell_type": "code",
      "metadata": {
        "id": "_s4EyMWn5A0Z"
      },
      "source": [
        "batch_size = 128"
      ],
      "execution_count": 27,
      "outputs": []
    },
    {
      "cell_type": "code",
      "metadata": {
        "id": "IQmberRk5ogM"
      },
      "source": [
        "buffer_size = 10000\n",
        "dataset = dataset.shuffle(buffer_size).batch(batch_size, drop_remainder=True)"
      ],
      "execution_count": 28,
      "outputs": []
    },
    {
      "cell_type": "code",
      "metadata": {
        "colab": {
          "base_uri": "https://localhost:8080/"
        },
        "id": "BplDK4PD53UI",
        "outputId": "f8901158-a0de-4604-e8c1-9d0259cade93"
      },
      "source": [
        "dataset"
      ],
      "execution_count": 29,
      "outputs": [
        {
          "output_type": "execute_result",
          "data": {
            "text/plain": [
              "<BatchDataset shapes: ((128, 120), (128, 120)), types: (tf.int64, tf.int64)>"
            ]
          },
          "metadata": {},
          "execution_count": 29
        }
      ]
    },
    {
      "cell_type": "markdown",
      "metadata": {
        "id": "M2fi9eyV6Xp_"
      },
      "source": [
        "create the model"
      ]
    },
    {
      "cell_type": "code",
      "metadata": {
        "id": "zhrVBnMc54Sc"
      },
      "source": [
        "vocab_size = len(vocab)"
      ],
      "execution_count": 30,
      "outputs": []
    },
    {
      "cell_type": "code",
      "metadata": {
        "id": "995By-SW6isE"
      },
      "source": [
        "embed_dim = 64"
      ],
      "execution_count": 31,
      "outputs": []
    },
    {
      "cell_type": "code",
      "metadata": {
        "id": "Itlxt9Xs6lPb"
      },
      "source": [
        "rnn_neurons = 1026"
      ],
      "execution_count": 32,
      "outputs": []
    },
    {
      "cell_type": "code",
      "metadata": {
        "id": "8DvzBxci6sKh"
      },
      "source": [
        "from tensorflow.keras.losses import sparse_categorical_crossentropy"
      ],
      "execution_count": 33,
      "outputs": []
    },
    {
      "cell_type": "code",
      "metadata": {
        "id": "wHrIu53I64K9"
      },
      "source": [
        "def sparse_cat_loss(y_true, y_pred):\n",
        "  return sparse_categorical_crossentropy(y_true, y_pred, from_logits=True)"
      ],
      "execution_count": 34,
      "outputs": []
    },
    {
      "cell_type": "code",
      "metadata": {
        "id": "OFoitKsJ7j0h"
      },
      "source": [
        "from tensorflow.keras.models import Sequential\n",
        "from tensorflow.keras.layers import Embedding, GRU, Dense"
      ],
      "execution_count": 35,
      "outputs": []
    },
    {
      "cell_type": "code",
      "metadata": {
        "id": "_lRHAcwL7UFh"
      },
      "source": [
        "def create_model (vocab_size, embed_dim, rnn_neurons,batch_size):\n",
        "  model = Sequential()\n",
        "  model.add(Embedding(vocab_size, embed_dim, batch_input_shape= [batch_size, None]))\n",
        "  model.add(GRU(rnn_neurons, return_sequences=True, stateful=True, recurrent_initializer='glorot_uniform'))\n",
        "  model.add(Dense(vocab_size))\n",
        "  model.compile('adam', loss=sparse_cat_loss)\n",
        "  return model"
      ],
      "execution_count": 36,
      "outputs": []
    },
    {
      "cell_type": "code",
      "metadata": {
        "id": "0IAgBsob_o_6"
      },
      "source": [
        "model = create_model(vocab_size=vocab_size, embed_dim=embed_dim, rnn_neurons=rnn_neurons, batch_size=batch_size)"
      ],
      "execution_count": 37,
      "outputs": []
    },
    {
      "cell_type": "code",
      "metadata": {
        "colab": {
          "base_uri": "https://localhost:8080/"
        },
        "id": "wyD747qJ_6nM",
        "outputId": "bee348d1-5d66-4584-9fbd-42a75ac6d145"
      },
      "source": [
        "model.summary()"
      ],
      "execution_count": 38,
      "outputs": [
        {
          "output_type": "stream",
          "name": "stdout",
          "text": [
            "Model: \"sequential\"\n",
            "_________________________________________________________________\n",
            " Layer (type)                Output Shape              Param #   \n",
            "=================================================================\n",
            " embedding (Embedding)       (128, None, 64)           5376      \n",
            "                                                                 \n",
            " gru (GRU)                   (128, None, 1026)         3361176   \n",
            "                                                                 \n",
            " dense (Dense)               (128, None, 84)           86268     \n",
            "                                                                 \n",
            "=================================================================\n",
            "Total params: 3,452,820\n",
            "Trainable params: 3,452,820\n",
            "Non-trainable params: 0\n",
            "_________________________________________________________________\n"
          ]
        }
      ]
    },
    {
      "cell_type": "code",
      "metadata": {
        "id": "UyYMMxT1_8nO"
      },
      "source": [
        "epochs = 40"
      ],
      "execution_count": 39,
      "outputs": []
    },
    {
      "cell_type": "code",
      "metadata": {
        "colab": {
          "base_uri": "https://localhost:8080/"
        },
        "id": "jXAqCZJXDNfK",
        "outputId": "00a8ea29-5de4-475e-9da9-fa65c60828f7"
      },
      "source": [
        "model.fit(dataset, epochs=epochs)"
      ],
      "execution_count": 40,
      "outputs": [
        {
          "output_type": "stream",
          "name": "stdout",
          "text": [
            "Epoch 1/40\n",
            "419/419 [==============================] - 110s 247ms/step - loss: 2.4600\n",
            "Epoch 2/40\n",
            "419/419 [==============================] - 105s 247ms/step - loss: 1.6608\n",
            "Epoch 3/40\n",
            "419/419 [==============================] - 105s 246ms/step - loss: 1.4082\n",
            "Epoch 4/40\n",
            "419/419 [==============================] - 105s 247ms/step - loss: 1.3023\n",
            "Epoch 5/40\n",
            "419/419 [==============================] - 105s 246ms/step - loss: 1.2457\n",
            "Epoch 6/40\n",
            "419/419 [==============================] - 106s 248ms/step - loss: 1.2074\n",
            "Epoch 7/40\n",
            "419/419 [==============================] - 105s 246ms/step - loss: 1.1790\n",
            "Epoch 8/40\n",
            "419/419 [==============================] - 105s 247ms/step - loss: 1.1552\n",
            "Epoch 9/40\n",
            "419/419 [==============================] - 105s 246ms/step - loss: 1.1344\n",
            "Epoch 10/40\n",
            "419/419 [==============================] - 105s 246ms/step - loss: 1.1162\n",
            "Epoch 11/40\n",
            "419/419 [==============================] - 105s 247ms/step - loss: 1.0993\n",
            "Epoch 12/40\n",
            "419/419 [==============================] - 105s 247ms/step - loss: 1.0842\n",
            "Epoch 13/40\n",
            "419/419 [==============================] - 105s 246ms/step - loss: 1.0694\n",
            "Epoch 14/40\n",
            "419/419 [==============================] - 104s 245ms/step - loss: 1.0559\n",
            "Epoch 15/40\n",
            "419/419 [==============================] - 104s 245ms/step - loss: 1.0428\n",
            "Epoch 16/40\n",
            "419/419 [==============================] - 104s 245ms/step - loss: 1.0313\n",
            "Epoch 17/40\n",
            "419/419 [==============================] - 105s 246ms/step - loss: 1.0202\n",
            "Epoch 18/40\n",
            "419/419 [==============================] - 105s 246ms/step - loss: 1.0109\n",
            "Epoch 19/40\n",
            "419/419 [==============================] - 105s 245ms/step - loss: 1.0019\n",
            "Epoch 20/40\n",
            "419/419 [==============================] - 105s 247ms/step - loss: 0.9937\n",
            "Epoch 21/40\n",
            "419/419 [==============================] - 104s 244ms/step - loss: 0.9868\n",
            "Epoch 22/40\n",
            "419/419 [==============================] - 104s 245ms/step - loss: 0.9802\n",
            "Epoch 23/40\n",
            "419/419 [==============================] - 105s 246ms/step - loss: 0.9753\n",
            "Epoch 24/40\n",
            "419/419 [==============================] - 105s 245ms/step - loss: 0.9705\n",
            "Epoch 25/40\n",
            "419/419 [==============================] - 105s 245ms/step - loss: 0.9664\n",
            "Epoch 26/40\n",
            "419/419 [==============================] - 105s 245ms/step - loss: 0.9620\n",
            "Epoch 27/40\n",
            "419/419 [==============================] - 105s 246ms/step - loss: 0.9596\n",
            "Epoch 28/40\n",
            "419/419 [==============================] - 105s 247ms/step - loss: 0.9570\n",
            "Epoch 29/40\n",
            "419/419 [==============================] - 105s 246ms/step - loss: 0.9551\n",
            "Epoch 30/40\n",
            "419/419 [==============================] - 104s 245ms/step - loss: 0.9528\n",
            "Epoch 31/40\n",
            "419/419 [==============================] - 104s 245ms/step - loss: 0.9508\n",
            "Epoch 32/40\n",
            "419/419 [==============================] - 105s 247ms/step - loss: 0.9501\n",
            "Epoch 33/40\n",
            "419/419 [==============================] - 105s 246ms/step - loss: 0.9494\n",
            "Epoch 34/40\n",
            "419/419 [==============================] - 105s 245ms/step - loss: 0.9484\n",
            "Epoch 35/40\n",
            "419/419 [==============================] - 106s 247ms/step - loss: 0.9482\n",
            "Epoch 36/40\n",
            "419/419 [==============================] - 106s 247ms/step - loss: 0.9483\n",
            "Epoch 37/40\n",
            "419/419 [==============================] - 105s 247ms/step - loss: 0.9475\n",
            "Epoch 38/40\n",
            "419/419 [==============================] - 105s 247ms/step - loss: 0.9471\n",
            "Epoch 39/40\n",
            "419/419 [==============================] - 105s 246ms/step - loss: 0.9483\n",
            "Epoch 40/40\n",
            "419/419 [==============================] - 105s 246ms/step - loss: 0.9497\n"
          ]
        },
        {
          "output_type": "execute_result",
          "data": {
            "text/plain": [
              "<keras.callbacks.History at 0x7f5ab5255fd0>"
            ]
          },
          "metadata": {},
          "execution_count": 40
        }
      ]
    },
    {
      "cell_type": "code",
      "metadata": {
        "id": "YO9njSgkDVMW"
      },
      "source": [
        "model.save('my_model.h5') "
      ],
      "execution_count": 41,
      "outputs": []
    },
    {
      "cell_type": "code",
      "metadata": {
        "id": "b7iNIseiez7r"
      },
      "source": [
        ""
      ],
      "execution_count": 41,
      "outputs": []
    },
    {
      "cell_type": "code",
      "metadata": {
        "id": "jIAuk-6mOlwy"
      },
      "source": [
        "from tensorflow.keras.models import load_model"
      ],
      "execution_count": 42,
      "outputs": []
    },
    {
      "cell_type": "code",
      "metadata": {
        "id": "6p_uhrSgOx53"
      },
      "source": [
        "model = create_model(vocab_size, embed_dim, rnn_neurons, batch_size=1 )\n"
      ],
      "execution_count": 43,
      "outputs": []
    },
    {
      "cell_type": "code",
      "metadata": {
        "id": "SYgdncQBo8Wd"
      },
      "source": [
        "model.load_weights('/content/my_model.h5')\n",
        "model.build(tf.TensorShape([1, None]))"
      ],
      "execution_count": 44,
      "outputs": []
    },
    {
      "cell_type": "code",
      "metadata": {
        "id": "AVz6ebZxPTGN",
        "colab": {
          "base_uri": "https://localhost:8080/"
        },
        "outputId": "14a16455-0c3e-4ba2-bb00-9906cb115192"
      },
      "source": [
        "model.summary()"
      ],
      "execution_count": 45,
      "outputs": [
        {
          "output_type": "stream",
          "name": "stdout",
          "text": [
            "Model: \"sequential_1\"\n",
            "_________________________________________________________________\n",
            " Layer (type)                Output Shape              Param #   \n",
            "=================================================================\n",
            " embedding_1 (Embedding)     (1, None, 64)             5376      \n",
            "                                                                 \n",
            " gru_1 (GRU)                 (1, None, 1026)           3361176   \n",
            "                                                                 \n",
            " dense_1 (Dense)             (1, None, 84)             86268     \n",
            "                                                                 \n",
            "=================================================================\n",
            "Total params: 3,452,820\n",
            "Trainable params: 3,452,820\n",
            "Non-trainable params: 0\n",
            "_________________________________________________________________\n"
          ]
        }
      ]
    },
    {
      "cell_type": "code",
      "metadata": {
        "id": "OpladrgqPaR2"
      },
      "source": [
        "def generate_text(model, start_seed, gen_size=500, temp=1.0):\n",
        "  #number to generate\n",
        "  num_generate = gen_size\n",
        "  #evaluate the input text and convert the text to index\n",
        "  input_eval = [char_to_ind[s] for s in start_seed]\n",
        "  #expand it to meet the batch format shape\n",
        "  input_eval= tf.expand_dims(input_eval, 0)\n",
        "  #holds the generated text\n",
        "  text_generated = []\n",
        "  #how surprising you want the results to be \n",
        "  temperature = temp\n",
        "  #reset the state of the model\n",
        "  model.reset_states()\n",
        "  for i in range(num_generate):\n",
        "    predictions = model(input_eval)\n",
        "    #remove the batch shape dimension\n",
        "    predictions = tf.squeeze(predictions, 0)\n",
        "\n",
        "    predictions = predictions / temperature\n",
        "    predicted_id = tf.random.categorical(predictions, num_samples=1)[-1,0].numpy()\n",
        "    input_eval = tf.expand_dims([predicted_id],0)\n",
        "    text_generated.append(ind_to_char[predicted_id])\n",
        "  return (start_seed+\"\".join(text_generated))"
      ],
      "execution_count": 46,
      "outputs": []
    },
    {
      "cell_type": "code",
      "metadata": {
        "id": "EfVvbbWjBzfL",
        "colab": {
          "base_uri": "https://localhost:8080/"
        },
        "outputId": "1fbf8dae-6897-4723-d28e-e790f654475b"
      },
      "source": [
        "print(generate_text(model, \"Juliet\", gen_size=1000))"
      ],
      "execution_count": 47,
      "outputs": [
        {
          "output_type": "stream",
          "name": "stdout",
          "text": [
            "Juliet\n",
            "    That running hath not been as sick and flike.\n",
            "  VIRe sharp up a briefe.\n",
            "    If thou beest a fair particular and soft\n",
            "    Of good to learn a good merrily much.\n",
            "  IAGO.                                               Why, show both your instruments\n",
            "    Do clear 'gainst all his ventmes of your youth,\n",
            "    Cut it at him. In him that branch'd fortunes with\n",
            "    from me that thou art a fool\n",
            "    That shall remember with another's pardon.\n",
            "  LEONTES. You know that wish endeavours.\n",
            "  PATROCLUS. No, Part.\n",
            "    [To ANTIGONUS] I wish you black not be me.\n",
            "  DESDEMONA.                 Ret Angelo and hear him draw our lordships, and there is like a\n",
            "    good sight of his own noses, blessing for his sake, have lov'd me.\n",
            "  IAGO. If it be so, what Shoft senses tell Again,\n",
            "    And I for one of Christor Henry did my poor petition\n",
            "    Is to let him but as fair death in Rome,\n",
            "    And he's but jest? Why, I thank you,\n",
            "    Because her honour and my    In your own strife- I am sent to fly a claud\n",
            "    And Maria CY\n"
          ]
        }
      ]
    },
    {
      "cell_type": "code",
      "metadata": {
        "id": "OE6MZKisDntx"
      },
      "source": [
        ""
      ],
      "execution_count": 47,
      "outputs": []
    }
  ]
}